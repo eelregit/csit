{
 "cells": [
  {
   "cell_type": "code",
   "execution_count": 1,
   "metadata": {},
   "outputs": [],
   "source": [
    "import numpy as np\n",
    "import matplotlib.pyplot as plt\n",
    "from nbodykit.lab import *"
   ]
  },
  {
   "cell_type": "code",
   "execution_count": 2,
   "metadata": {},
   "outputs": [],
   "source": [
    "def a_ratio(z):\n",
    "    # replace following with function of redshift\n",
    "    delta_a = np.zeros(3)\n",
    "    return 1 + delta_a"
   ]
  },
  {
   "cell_type": "code",
   "execution_count": 3,
   "metadata": {},
   "outputs": [
    {
     "name": "stdout",
     "output_type": "stream",
     "text": [
      "Gadget1Catalog(size=134217728, FileStack(Gadget1File(path=/mnt/home/yinli/99/snap_004.0, dataset=1, ncolumns=4, shape=(16900487,)>, ... 8 files))\n",
      "['GadgetVelocity', 'ID', 'Mass', 'Position', 'Selection', 'Value', 'Weight']\n"
     ]
    },
    {
     "name": "stderr",
     "output_type": "stream",
     "text": [
      "/mnt/home/yinli/anaconda3/lib/python3.7/site-packages/nbodykit/io/gadget.py:152: UserWarning: Cannot decide the item size of `Mass`, assuming 4 bytes.\n",
      "  warnings.warn(\"Cannot decide the item size of `%s`, assuming 4 bytes.\" % (column))\n",
      "/mnt/home/yinli/anaconda3/lib/python3.7/site-packages/nbodykit/io/gadget.py:152: UserWarning: Cannot decide the item size of `InternalEnergy`, assuming 4 bytes.\n",
      "  warnings.warn(\"Cannot decide the item size of `%s`, assuming 4 bytes.\" % (column))\n",
      "/mnt/home/yinli/anaconda3/lib/python3.7/site-packages/nbodykit/io/gadget.py:152: UserWarning: Cannot decide the item size of `Density`, assuming 4 bytes.\n",
      "  warnings.warn(\"Cannot decide the item size of `%s`, assuming 4 bytes.\" % (column))\n",
      "/mnt/home/yinli/anaconda3/lib/python3.7/site-packages/nbodykit/io/gadget.py:152: UserWarning: Cannot decide the item size of `SmoothingLength`, assuming 4 bytes.\n",
      "  warnings.warn(\"Cannot decide the item size of `%s`, assuming 4 bytes.\" % (column))\n"
     ]
    },
    {
     "data": {
      "text/plain": [
       "{'Npart': array([       0, 16900487,        0,        0,        0,        0],\n",
       "       dtype=uint32),\n",
       " 'Massarr': array([ 0.        , 65.65609345,  0.        ,  0.        ,  0.        ,\n",
       "         0.        ]),\n",
       " 'Time': 0.9999999999999998,\n",
       " 'Redshift': 2.220446049250313e-16,\n",
       " 'FlagSfr': 0,\n",
       " 'FlagFeedback': 0,\n",
       " 'Nall': array([        0, 134217728,         0,         0,         0,         0],\n",
       "       dtype=uint32),\n",
       " 'FlagCooling': 0,\n",
       " 'NumFiles': 8,\n",
       " 'BoxSize': 1000000.0,\n",
       " 'Omega0': 0.3175,\n",
       " 'OmegaLambda': 0.6825,\n",
       " 'HubbleParam': 0.6711,\n",
       " 'FlagAge': 0,\n",
       " 'FlagMetals': 0,\n",
       " 'NallHW': array([0, 0, 0, 0, 0, 0], dtype=uint32),\n",
       " 'flag_entr_ics': 0}"
      ]
     },
     "metadata": {},
     "output_type": "display_data"
    }
   ],
   "source": [
    "part_cat = Gadget1Catalog('snap_004.*')\n",
    "\n",
    "print(part_cat)\n",
    "print(part_cat.columns)\n",
    "display(part_cat.attrs)\n",
    "\n",
    "# rescale coordinates\n",
    "z = part_cat.attrs['Redshift']\n",
    "part_cat.attrs['BoxSize'] /= a_ratio(z) * 1000  # from kpc/h to Mpc/h\n",
    "part_cat['Position'] /= a_ratio(z) * 1000"
   ]
  },
  {
   "cell_type": "code",
   "execution_count": 4,
   "metadata": {},
   "outputs": [],
   "source": [
    "part_cat['Velocity'] = part_cat['GadgetVelocity'] * a_ratio(z) ** 1.5  # NOTE check if this is the correct conversion\n",
    "\n",
    "part_cat.attrs['Nmesh'] = (1,) * part_cat['Position'].shape[1]  # HACK to make FOF compute the mean_separation\n",
    "\n",
    "part_mass = part_cat['Mass'][0] * 1e10  # Msun/h"
   ]
  },
  {
   "cell_type": "code",
   "execution_count": 5,
   "metadata": {},
   "outputs": [
    {
     "name": "stdout",
     "output_type": "stream",
     "text": [
      "HaloCatalog(size=481398)\n",
      "['Concentration', 'Mass', 'Position', 'Radius', 'Selection', 'Value', 'Velocity', 'VelocityOffset', 'Weight']\n"
     ]
    },
    {
     "data": {
      "text/plain": [
       "{'Npart': array([       0, 16900487,        0,        0,        0,        0],\n",
       "       dtype=uint32),\n",
       " 'Massarr': array([ 0.        , 65.65609345,  0.        ,  0.        ,  0.        ,\n",
       "         0.        ]),\n",
       " 'Time': 0.9999999999999998,\n",
       " 'Redshift': 2.220446049250313e-16,\n",
       " 'FlagSfr': 0,\n",
       " 'FlagFeedback': 0,\n",
       " 'Nall': array([        0, 134217728,         0,         0,         0,         0],\n",
       "       dtype=uint32),\n",
       " 'FlagCooling': 0,\n",
       " 'NumFiles': 8,\n",
       " 'BoxSize': array([1000., 1000., 1000.]),\n",
       " 'Omega0': 0.3175,\n",
       " 'OmegaLambda': 0.6825,\n",
       " 'HubbleParam': 0.6711,\n",
       " 'FlagAge': 0,\n",
       " 'FlagMetals': 0,\n",
       " 'NallHW': array([0, 0, 0, 0, 0, 0], dtype=uint32),\n",
       " 'flag_entr_ics': 0,\n",
       " 'Nmesh': (1, 1, 1),\n",
       " 'linking_length': 0.2,\n",
       " 'nmin': 16,\n",
       " 'absolute': False,\n",
       " 'periodic': True,\n",
       " 'domain_factor': 1,\n",
       " 'particle_mass': dask.array<mul, shape=(), dtype=float64, chunksize=(), chunktype=numpy.ndarray>,\n",
       " 'redshift': 0,\n",
       " 'cosmo': {'output': 'vTk dTk mPk',\n",
       "  'extra metric transfer functions': 'y',\n",
       "  'h': 0.6774,\n",
       "  'N_ur': 2.0328,\n",
       "  'gauge': 'synchronous',\n",
       "  'n_s': 0.9667,\n",
       "  'ln10^{10}A_s': 3.064,\n",
       "  'k_pivot': 0.05,\n",
       "  'tau_reio': 0.066,\n",
       "  'T_cmb': 2.7255,\n",
       "  'Omega_cdm': 0.2589,\n",
       "  'Omega_b': 0.0486,\n",
       "  'Omega_k': 0.0,\n",
       "  'N_ncdm': 1,\n",
       "  'm_ncdm': [0.06],\n",
       "  'P_k_max_h/Mpc': 10.0,\n",
       "  'z_max_pk': 100.0},\n",
       " 'mass': 'Mass',\n",
       " 'velocity': 'Velocity',\n",
       " 'position': 'Position',\n",
       " 'mdef': 'vir',\n",
       " 'halo_mass_key': 'halo_mvir',\n",
       " 'halo_radius_key': 'halo_rvir'}"
      ]
     },
     "metadata": {},
     "output_type": "display_data"
    }
   ],
   "source": [
    "f = FOF(part_cat, 0.2, 16)\n",
    "halo_cat = f.to_halos(part_mass, cosmology.Planck15, 0)  # NOTE check if this is the right cosmology\n",
    "\n",
    "print(halo_cat)\n",
    "print(halo_cat.columns)\n",
    "display(halo_cat.attrs)"
   ]
  },
  {
   "cell_type": "code",
   "execution_count": 6,
   "metadata": {},
   "outputs": [
    {
     "name": "stderr",
     "output_type": "stream",
     "text": [
      "/mnt/home/yinli/anaconda3/lib/python3.7/site-packages/dask/array/core.py:1334: FutureWarning: The `numpy.size` function is not implemented by Dask array. You may want to use the da.map_blocks function or something similar to silence this warning. Your code may stop working in a future release.\n",
      "  FutureWarning,\n"
     ]
    },
    {
     "data": {
      "image/png": "[encoded data removed]",
      "text/plain": [
       "<Figure size 432x288 with 1 Axes>"
      ]
     },
     "metadata": {
      "needs_background": "light"
     },
     "output_type": "display_data"
    }
   ],
   "source": [
    "plt.hist(halo_cat['Mass'], bins=np.logspace(13, 16, 16),\n",
    "         weights=np.full(halo_cat['Mass'].shape, 1 / halo_cat.attrs['BoxSize'].prod()),\n",
    "         histtype='step')\n",
    "plt.xscale('log')\n",
    "plt.yscale('log')"
   ]
  }
 ],
 "metadata": {
  "kernelspec": {
   "display_name": "Python 3",
   "language": "python",
   "name": "python3"
  },
  "language_info": {
   "codemirror_mode": {
    "name": "ipython",
    "version": 3
   },
   "file_extension": ".py",
   "mimetype": "text/x-python",
   "name": "python",
   "nbconvert_exporter": "python",
   "pygments_lexer": "ipython3",
   "version": "3.7.5"
  }
 },
 "nbformat": 4,
 "nbformat_minor": 4
}
