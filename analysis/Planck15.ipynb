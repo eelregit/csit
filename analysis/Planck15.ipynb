{
 "cells": [
  {
   "cell_type": "code",
   "execution_count": 4,
   "metadata": {},
   "outputs": [
    {
     "data": {
      "text/plain": [
       "{'output': 'vTk dTk mPk',\n",
       " 'extra metric transfer functions': 'y',\n",
       " 'h': 0.6774,\n",
       " 'N_ur': 2.0328,\n",
       " 'gauge': 'synchronous',\n",
       " 'n_s': 0.9667,\n",
       " 'ln10^{10}A_s': 3.064,\n",
       " 'k_pivot': 0.05,\n",
       " 'tau_reio': 0.066,\n",
       " 'T_cmb': 2.7255,\n",
       " 'Omega_cdm': 0.2589,\n",
       " 'Omega_b': 0.0486,\n",
       " 'Omega_k': 0.0,\n",
       " 'N_ncdm': 1,\n",
       " 'm_ncdm': [0.06],\n",
       " 'P_k_max_h/Mpc': 10.0,\n",
       " 'z_max_pk': 100.0}"
      ]
     },
     "execution_count": 4,
     "metadata": {},
     "output_type": "execute_result"
    }
   ],
   "source": [
    "import numpy as np\n",
    "from scipy import integrate\n",
    "from scipy import interpolate\n",
    "from scipy.integrate import odeint\n",
    "from nbodykit.lab import *\n",
    "from nbodykit import setup_logging\n",
    "\n",
    "dict(cosmology.Planck15)"
   ]
  }
 ],
 "metadata": {
  "kernelspec": {
   "display_name": "Python 3",
   "language": "python",
   "name": "python3"
  },
  "language_info": {
   "codemirror_mode": {
    "name": "ipython",
    "version": 3
   },
   "file_extension": ".py",
   "mimetype": "text/x-python",
   "name": "python",
   "nbconvert_exporter": "python",
   "pygments_lexer": "ipython3",
   "version": "3.7.6"
  }
 },
 "nbformat": 4,
 "nbformat_minor": 4
}
