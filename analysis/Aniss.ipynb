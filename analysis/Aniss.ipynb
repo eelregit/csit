{
 "cells": [
  {
   "cell_type": "code",
   "execution_count": 22,
   "metadata": {},
   "outputs": [],
   "source": [
    "%matplotlib inline\n",
    "import math\n",
    "import numpy as np\n",
    "\n",
    "from scipy import integrate\n",
    "from scipy import interpolate\n",
    "from scipy.integrate import odeint\n",
    "\n",
    "import matplotlib.pyplot as plt\n",
    "\n",
    "from nbodykit.lab import *"
   ]
  },
  {
   "cell_type": "code",
   "execution_count": 23,
   "metadata": {},
   "outputs": [],
   "source": [
    "cosmo = cosmology.Planck15"
   ]
  },
  {
   "cell_type": "code",
   "execution_count": 24,
   "metadata": {},
   "outputs": [],
   "source": [
    "Omega_m = cosmo.Omega_m(0)\n",
    "Omega_L = cosmo.Omega_lambda(0)\n",
    "tau_array = [0.005,0.005,-0.01]\n",
    "a_begin = 1/(1+200)\n",
    "a_end = 1\n",
    "points = 3000\n",
    "\n",
    "def Hubble(a):\n",
    "    matter = Omega_m/a**3\n",
    "    Lambda = Omega_L\n",
    "    return np.sqrt(matter+Lambda)\n",
    "\n",
    "def dHda(a):\n",
    "    up = -3*Omega_m\n",
    "    down = 2*a**4*Hubble(a)\n",
    "    return up/down\n",
    "\n",
    "def dHdloga(a):\n",
    "    return a*dHda(a)\n",
    "\n",
    "def growth_int(a):\n",
    "    return 1./(a*Hubble(a))**3\n",
    "\n",
    "def growth_D(a):\n",
    "    factor = 5*Omega_m*Hubble(a)/2\n",
    "    return factor*integrate.quad(growth_int, 0, a)[0]\n",
    "\n",
    "def dDda(a):\n",
    "    factor = 5*Omega_m*dHda(a)/2\n",
    "    second = 5*Omega_m/(2*a**3*Hubble(a)**2)\n",
    "    return factor*integrate.quad(growth_int, 0, a)[0] + second\n",
    "\n",
    "def dDdloga(a):\n",
    "    return a*dDda(a)\n",
    "\n",
    "vgrowth_D = np.vectorize(growth_D)\n",
    "vdDda = np.vectorize(dDda)\n",
    "vdDdloga = np.vectorize(dDdloga)"
   ]
  },
  {
   "cell_type": "code",
   "execution_count": 25,
   "metadata": {},
   "outputs": [],
   "source": [
    "a_array = np.logspace(np.log(a_begin), np.log(1), points, base=np.exp(1))\n",
    "lna_array = np.log(a_array)\n",
    "a_da = np.zeros((points,2,3))\n",
    "\n",
    "def Delta_f(x, lna, tau):\n",
    "    a = np.exp(lna)\n",
    "    first = 2+dHdloga(a)/Hubble(a) \n",
    "    timetau = tau*vgrowth_D(a)/vgrowth_D(1)\n",
    "    const = 3*Omega_m*timetau/(2*a**3*Hubble(a)**2)\n",
    "    ret = [\n",
    "        x[1],\n",
    "        -first*x[1] -const*(1+x[0]) \n",
    "    ]\n",
    "    return ret\n",
    "\n",
    "inifac = growth_D(a_array[0])/growth_D(1)\n",
    "dinifac = inifac*vdDdloga(a_array[0])/growth_D(a_array[0])\n",
    "\n",
    "inifac_array = -np.array([inifac, dinifac])\n",
    "\n",
    "Delta_ini = np.array([tau_array[0]*inifac_array,\n",
    "                      tau_array[1]*inifac_array,\n",
    "                      tau_array[2]*inifac_array])\n",
    "\n",
    "for i in range(3):\n",
    "    a_da[:,:,i] = odeint(Delta_f, Delta_ini[i], lna_array, args=(tau_array[i],))"
   ]
  },
  {
   "cell_type": "code",
   "execution_count": 26,
   "metadata": {},
   "outputs": [
    {
     "data": {
      "text/plain": [
       "[<matplotlib.lines.Line2D at 0x2aaae5255c90>]"
      ]
     },
     "execution_count": 26,
     "metadata": {},
     "output_type": "execute_result"
    },
    {
     "data": {
      "image/png": "[encoded data removed]",
      "text/plain": [
       "<Figure size 432x288 with 1 Axes>"
      ]
     },
     "metadata": {
      "needs_background": "light"
     },
     "output_type": "display_data"
    }
   ],
   "source": [
    "plt.plot(a_array,1+a_da[:,0,0])\n",
    "plt.plot(a_array,1+a_da[:,0,1])\n",
    "plt.plot(a_array,1+a_da[:,0,2])"
   ]
  },
  {
   "cell_type": "code",
   "execution_count": 27,
   "metadata": {},
   "outputs": [
    {
     "name": "stdout",
     "output_type": "stream",
     "text": [
      "[[ 4.97512438e-03 -3.17175339e-05 -3.17175339e-05  6.34350678e-05]\n",
      " [ 4.98392996e-03 -3.17736850e-05 -3.17736850e-05  6.35473699e-05]\n",
      " [ 4.99275113e-03 -3.18299270e-05 -3.18299270e-05  6.36598518e-05]\n",
      " ...\n",
      " [ 9.96469531e-01 -4.98333804e-03 -4.98333804e-03  1.00118202e-02]\n",
      " [ 9.98233205e-01 -4.98794140e-03 -4.98794140e-03  1.00211119e-02]\n",
      " [ 1.00000000e+00 -4.99253951e-03 -4.99253951e-03  1.00303931e-02]]\n"
     ]
    }
   ],
   "source": [
    "ai_save = np.zeros((points,4))\n",
    "ai_save[:,0] = a_array\n",
    "ai_save[:,1:4] = a_da[:,0,:]\n",
    "np.savetxt('Aniss_planck15_p0005p0095m001_z200',ai_save)\n",
    "print(ai_save)"
   ]
  },
  {
   "cell_type": "code",
   "execution_count": null,
   "metadata": {},
   "outputs": [],
   "source": []
  }
 ],
 "metadata": {
  "kernelspec": {
   "display_name": "Python 3",
   "language": "python",
   "name": "python3"
  },
  "language_info": {
   "codemirror_mode": {
    "name": "ipython",
    "version": 3
   },
   "file_extension": ".py",
   "mimetype": "text/x-python",
   "name": "python",
   "nbconvert_exporter": "python",
   "pygments_lexer": "ipython3",
   "version": "3.7.6"
  }
 },
 "nbformat": 4,
 "nbformat_minor": 4
}
