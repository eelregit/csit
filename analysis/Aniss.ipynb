{
 "cells": [
  {
   "cell_type": "code",
   "execution_count": 1,
   "metadata": {},
   "outputs": [],
   "source": [
    "%matplotlib inline\n",
    "import math\n",
    "import numpy as np\n",
    "\n",
    "from scipy import integrate\n",
    "from scipy import interpolate\n",
    "from scipy.integrate import odeint\n",
    "from scipy import optimize, exp\n",
    "\n",
    "import matplotlib.pyplot as plt\n",
    "\n",
    "from nbodykit.lab import *"
   ]
  },
  {
   "cell_type": "code",
   "execution_count": 2,
   "metadata": {},
   "outputs": [],
   "source": [
    "cosmo = cosmology.Planck15"
   ]
  },
  {
   "cell_type": "code",
   "execution_count": 214,
   "metadata": {},
   "outputs": [
    {
     "name": "stdout",
     "output_type": "stream",
     "text": [
      "0.0\n"
     ]
    }
   ],
   "source": [
    "#Omega_m = cosmo.Omega0_m\n",
    "#Omega_L = cosmo.Omega0_lambda\n",
    "Omega_m = 0.3089\n",
    "Omega_L = 0.6911\n",
    "\n",
    "tau_array = [0.05, 0.05, -0.1]\n",
    "trace = tau_array[0] + tau_array[1] + tau_array[2]\n",
    "print(trace)\n",
    "\n",
    "a_begin = 1/(1+200)\n",
    "a_end = 1.2\n",
    "points = 5000\n",
    "\n",
    "def Hubble(a):\n",
    "    matter = Omega_m/a**3\n",
    "    Lambda = Omega_L\n",
    "    Curv = (1-Omega_m-Omega_L)/a**2\n",
    "    return np.sqrt(matter+Lambda+Curv)\n",
    "\n",
    "def dHda(a):\n",
    "    up = -3*Omega_m\n",
    "    down = 2*a**4*Hubble(a)\n",
    "    return up/down\n",
    "\n",
    "def dHdloga(a):\n",
    "    return a*dHda(a)\n",
    "\n",
    "def growth_int(a):\n",
    "    return 1./(a*Hubble(a))**3\n",
    "\n",
    "def growth_D(a):\n",
    "    factor = 5*Omega_m*Hubble(a)/2\n",
    "    return factor*integrate.quad(growth_int, 0, a)[0]\n",
    "\n",
    "def dDda(a):\n",
    "    factor = 5*Omega_m*dHda(a)/2\n",
    "    second = 5*Omega_m/(2*a**3*Hubble(a)**2)\n",
    "    return factor*integrate.quad(growth_int, 0, a)[0] + second\n",
    "\n",
    "def dDdloga(a):\n",
    "    return a*dDda(a)\n",
    "\n",
    "vgrowth_D = np.vectorize(growth_D)\n",
    "vdDda = np.vectorize(dDda)\n",
    "vdDdloga = np.vectorize(dDdloga)"
   ]
  },
  {
   "cell_type": "code",
   "execution_count": 215,
   "metadata": {},
   "outputs": [],
   "source": [
    "a_array = np.logspace(np.log(a_begin), np.log(a_end), points, base=np.exp(1))\n",
    "lna_array = np.log(a_array)\n",
    "a_da = np.zeros((points,6))\n",
    "\n",
    "def Delta_f(x, lna, taux, tauy, tauz):\n",
    "    ### x0 = Delta_x, x1 = Delta_x', \n",
    "    ### x2 = Delta_y, x3 = Delta_y', \n",
    "    ### x4 = Delta_z, x5 = Delta_z'\n",
    "    Delta0 = 1/((1.+x[0])*(1.+x[2])*(1.+x[4]))-1.\n",
    "    #Delta0 = 0\n",
    "    a = np.exp(lna)\n",
    "    first = 2+dHdloga(a)/Hubble(a)\n",
    "    \n",
    "    def tau_time(tau):\n",
    "        return (tau-trace/3.)*vgrowth_D(a)/vgrowth_D(1) \n",
    "    \n",
    "    const = 3*Omega_m/(2*a**3*Hubble(a)**2)\n",
    "    ret = [\n",
    "        x[1],\n",
    "        -first*x[1] -const*(tau_time(taux)+Delta0/3.)*(1+x[0]),\n",
    "        x[3],\n",
    "        -first*x[3] -const*(tau_time(tauy)+Delta0/3.)*(1+x[2]),\n",
    "        x[5],\n",
    "        -first*x[5] -const*(tau_time(tauz)+Delta0/3.)*(1+x[4]),\n",
    "    ]\n",
    "    return ret\n",
    "\n",
    "inifac = growth_D(a_array[0])/growth_D(1)\n",
    "dinifac = inifac*vdDdloga(a_array[0])/growth_D(a_array[0])\n",
    "\n",
    "Delta_ini = -np.array([tau_array[0]*inifac, tau_array[0]*dinifac,\n",
    "                      tau_array[1]*inifac, tau_array[1]*dinifac,\n",
    "                      tau_array[2]*inifac, tau_array[2]*dinifac])\n",
    "\n",
    "a_da = odeint(Delta_f, Delta_ini, lna_array, args=(tau_array[0],tau_array[1],tau_array[2]))"
   ]
  },
  {
   "cell_type": "code",
   "execution_count": 216,
   "metadata": {},
   "outputs": [
    {
     "data": {
      "text/plain": [
       "<matplotlib.legend.Legend at 0x2aaae387a250>"
      ]
     },
     "execution_count": 216,
     "metadata": {},
     "output_type": "execute_result"
    },
    {
     "data": {
      "image/png": "[encoded data removed]",
      "text/plain": [
       "<Figure size 432x288 with 1 Axes>"
      ]
     },
     "metadata": {
      "needs_background": "light"
     },
     "output_type": "display_data"
    }
   ],
   "source": [
    "plt.plot(a_array,1+a_da[:,4], label='z')\n",
    "plt.plot(a_array,1+a_da[:,2],label='2y')\n",
    "\n",
    "\n",
    "plt.legend()\n",
    "#plt.xscale('log')\n",
    "#plt.plot(a_array,1+a_da[:,2])\n",
    "#plt.plot(a_array,1+a_da[:,4])\n",
    "#plt.plot(a_array,1-tau_array[2]*(vgrowth_D(a_array)/growth_D(1))   )"
   ]
  },
  {
   "cell_type": "code",
   "execution_count": 217,
   "metadata": {},
   "outputs": [
    {
     "data": {
      "text/plain": [
       "(-0.1, 0.1)"
      ]
     },
     "execution_count": 217,
     "metadata": {},
     "output_type": "execute_result"
    },
    {
     "data": {
      "image/png": "[encoded data removed]",
      "text/plain": [
       "<Figure size 432x288 with 1 Axes>"
      ]
     },
     "metadata": {
      "needs_background": "light"
     },
     "output_type": "display_data"
    }
   ],
   "source": [
    "plt.plot(a_array,a_da[:,4], label='z')\n",
    "plt.plot(a_array,(1-a_array)/a_array, label='z')\n",
    "#plt.xscale('log')\n",
    "plt.xlim(0.9,1.1)\n",
    "plt.ylim(-0.1, 0.1)\n"
   ]
  },
  {
   "cell_type": "code",
   "execution_count": 218,
   "metadata": {},
   "outputs": [],
   "source": [
    "delta_ax = interpolate.interp1d(a_array, a_da[:,0], kind=\"cubic\")\n",
    "delta_ay = interpolate.interp1d(a_array, a_da[:,2], kind=\"cubic\")\n",
    "delta_az = interpolate.interp1d(a_array, a_da[:,4], kind=\"cubic\")"
   ]
  },
  {
   "cell_type": "code",
   "execution_count": 219,
   "metadata": {},
   "outputs": [],
   "source": [
    "def eq(a):\n",
    "    left = delta_ax(a)\n",
    "    right = (1-a)/a\n",
    "    return left-right"
   ]
  },
  {
   "cell_type": "code",
   "execution_count": 220,
   "metadata": {},
   "outputs": [
    {
     "data": {
      "text/plain": [
       "array([1.05373617])"
      ]
     },
     "execution_count": 220,
     "metadata": {},
     "output_type": "execute_result"
    }
   ],
   "source": [
    "optimize.fsolve(eq, 1.)"
   ]
  },
  {
   "cell_type": "code",
   "execution_count": 221,
   "metadata": {},
   "outputs": [
    {
     "data": {
      "text/plain": [
       "0.9503260121874718"
      ]
     },
     "execution_count": 221,
     "metadata": {},
     "output_type": "execute_result"
    }
   ],
   "source": [
    "1+delta_ax(1.)"
   ]
  },
  {
   "cell_type": "code",
   "execution_count": 222,
   "metadata": {},
   "outputs": [],
   "source": [
    "Delta0 = 1./( (1+a_da[:,0])*(1+a_da[:,2])*(1+a_da[:,4]) ) - 1."
   ]
  },
  {
   "cell_type": "code",
   "execution_count": 223,
   "metadata": {},
   "outputs": [],
   "source": [
    "def Delta0_interp(a):\n",
    "     return 1./( (1+delta_ax(a))*(1+delta_ay(a))*(1+delta_az(a)) ) - 1."
   ]
  },
  {
   "cell_type": "code",
   "execution_count": 224,
   "metadata": {},
   "outputs": [
    {
     "data": {
      "text/plain": [
       "0.9503260121874718"
      ]
     },
     "execution_count": 224,
     "metadata": {},
     "output_type": "execute_result"
    }
   ],
   "source": [
    "1+delta_ay(1)"
   ]
  },
  {
   "cell_type": "code",
   "execution_count": 225,
   "metadata": {},
   "outputs": [
    {
     "name": "stdout",
     "output_type": "stream",
     "text": [
      "[[ 4.97512438e-03 -3.17182005e-04 -3.17182005e-04  6.34364010e-04]\n",
      " [ 4.98058680e-03 -3.17530387e-04 -3.17530387e-04  6.35060774e-04]\n",
      " [ 4.98605522e-03 -3.17879022e-04 -3.17879022e-04  6.35758044e-04]\n",
      " ...\n",
      " [ 1.19736926e+00 -5.40032347e-02 -5.40032347e-02  1.11874683e-01]\n",
      " [ 1.19868391e+00 -5.40276161e-02 -5.40276161e-02  1.11927075e-01]\n",
      " [ 1.20000000e+00 -5.40519719e-02 -5.40519719e-02  1.11979414e-01]]\n"
     ]
    }
   ],
   "source": [
    "ai_save = np.zeros((points,4))\n",
    "ai_save[:,0] = a_array\n",
    "ai_save[:,1] = a_da[:,0]\n",
    "ai_save[:,2] = a_da[:,2]\n",
    "ai_save[:,3] = a_da[:,4]\n",
    "print(ai_save)"
   ]
  },
  {
   "cell_type": "code",
   "execution_count": 226,
   "metadata": {},
   "outputs": [],
   "source": [
    "np.savetxt('Aniss/Aniss_planck2015_ppm01_z200',ai_save)"
   ]
  },
  {
   "cell_type": "code",
   "execution_count": 34,
   "metadata": {},
   "outputs": [
    {
     "data": {
      "text/plain": [
       "<matplotlib.legend.Legend at 0x2aaae3668190>"
      ]
     },
     "execution_count": 34,
     "metadata": {},
     "output_type": "execute_result"
    },
    {
     "data": {
      "image/png": "[encoded data removed]",
      "text/plain": [
       "<Figure size 432x288 with 1 Axes>"
      ]
     },
     "metadata": {
      "needs_background": "light"
     },
     "output_type": "display_data"
    }
   ],
   "source": [
    "plt.plot(a_array,1+a_da[:,4], label='mmp, az')\n",
    "plt.plot(a_array,1-ai_mmp_test[:,3],label='ppm, az')\n",
    "\n",
    "plt.legend()\n"
   ]
  },
  {
   "cell_type": "code",
   "execution_count": 24,
   "metadata": {},
   "outputs": [],
   "source": [
    "ai_mmp_test = ai_save"
   ]
  },
  {
   "cell_type": "code",
   "execution_count": 41,
   "metadata": {},
   "outputs": [],
   "source": [
    "check_mmp = np.loadtxt('Aniss/Aniss_planck2015_ppp003_z200')\n",
    "check_ppm = np.loadtxt('Aniss/Aniss_planck2015_mmm003_z200')"
   ]
  },
  {
   "cell_type": "code",
   "execution_count": 42,
   "metadata": {},
   "outputs": [
    {
     "data": {
      "text/plain": [
       "<matplotlib.legend.Legend at 0x2aaae3b5b890>"
      ]
     },
     "execution_count": 42,
     "metadata": {},
     "output_type": "execute_result"
    },
    {
     "data": {
      "image/png": "[encoded data removed]",
      "text/plain": [
       "<Figure size 432x288 with 1 Axes>"
      ]
     },
     "metadata": {
      "needs_background": "light"
     },
     "output_type": "display_data"
    }
   ],
   "source": [
    "plt.plot(check_mmp[:,0],1+check_mmp[:,3],label='mmp')\n",
    "plt.plot(check_ppm[:,0],1-check_ppm[:,3],label='ppm')\n",
    "plt.legend()"
   ]
  },
  {
   "cell_type": "code",
   "execution_count": 58,
   "metadata": {},
   "outputs": [],
   "source": [
    "#a_array = np.logspace(np.log(a_begin), np.log(1), points, base=np.exp(1))\n",
    "#lna_array = np.log(a_array)\n",
    "\n",
    "##pure spherical collapse eq.\n",
    "a_da_iso = np.zeros((points,2))\n",
    "\n",
    "test_db = -0.004*3\n",
    "\n",
    "def Delta_f_iso(x, lna):\n",
    "    ### x0 = Delta_a, x1 = Delta_a', \n",
    "    Delta0 = 1/((1.+x[0])*(1.+x[0])*(1.+x[0]))-1.\n",
    "    #Delta0 = 0\n",
    "    a = np.exp(lna)\n",
    "    first = 2+dHdloga(a)/Hubble(a)\n",
    "    \n",
    "    const = Omega_m/(2*a**3*Hubble(a)**2)\n",
    "    ret = [\n",
    "        x[1],\n",
    "        -first*x[1] -const*Delta0*(1+x[0]),\n",
    "    ]\n",
    "    return ret\n",
    "\n",
    "#inifac = growth_D(a_array[0])/growth_D(1)\n",
    "#dinifac = inifac*vdDdloga(a_array[0])/growth_D(a_array[0])\n",
    "\n",
    "Delta_ini_iso = -np.array([test_db*inifac/3, test_db*dinifac/3])\n",
    "\n",
    "a_da_iso = odeint(Delta_f_iso, Delta_ini_iso, lna_array)"
   ]
  },
  {
   "cell_type": "code",
   "execution_count": 59,
   "metadata": {},
   "outputs": [
    {
     "data": {
      "text/plain": [
       "<matplotlib.legend.Legend at 0x2aaaf57e1350>"
      ]
     },
     "execution_count": 59,
     "metadata": {},
     "output_type": "execute_result"
    },
    {
     "data": {
      "image/png": "[encoded data removed]",
      "text/plain": [
       "<Figure size 432x288 with 1 Axes>"
      ]
     },
     "metadata": {
      "needs_background": "light"
     },
     "output_type": "display_data"
    }
   ],
   "source": [
    "plt.plot(a_array,1+a_da[:,0],label=r\"$ani$\" )\n",
    "plt.plot(a_array,1+a_da_iso[:,0],label=r\"$iso$\" )\n",
    "#plt.plot(a_array,1+a_da[:,2])\n",
    "#plt.plot(a_array,1+a_da[:,4])\n",
    "#plt.plot(a_array,1-tau_array[2]*(vgrowth_D(a_array)/growth_D(1))   )\n",
    "plt.legend(bbox_to_anchor=(0, 0), loc='lower left', borderaxespad=1, fontsize=15)"
   ]
  },
  {
   "cell_type": "code",
   "execution_count": 60,
   "metadata": {},
   "outputs": [
    {
     "name": "stdout",
     "output_type": "stream",
     "text": [
      "[0.00497512 0.00498041 0.00498569 ... 0.9978805  0.99893969 1.        ] [2.53740271e-05 2.54009707e-05 2.54279328e-05 ... 3.99175794e-03\n",
      " 3.99396652e-03 3.99617359e-03]\n"
     ]
    }
   ],
   "source": [
    "print(a_array,a_da_iso[:,0])"
   ]
  },
  {
   "cell_type": "code",
   "execution_count": 61,
   "metadata": {},
   "outputs": [
    {
     "data": {
      "text/plain": [
       "0.0039961735862288125"
      ]
     },
     "execution_count": 61,
     "metadata": {},
     "output_type": "execute_result"
    }
   ],
   "source": [
    "a_da_iso[-1,0]"
   ]
  },
  {
   "cell_type": "code",
   "execution_count": 62,
   "metadata": {},
   "outputs": [
    {
     "data": {
      "text/plain": [
       "1.0039961735862288"
      ]
     },
     "execution_count": 62,
     "metadata": {},
     "output_type": "execute_result"
    }
   ],
   "source": [
    "a_array[-1]*(1+a_da_iso[-1,0])"
   ]
  },
  {
   "cell_type": "code",
   "execution_count": null,
   "metadata": {},
   "outputs": [],
   "source": []
  }
 ],
 "metadata": {
  "kernelspec": {
   "display_name": "Python 3",
   "language": "python",
   "name": "python3"
  },
  "language_info": {
   "codemirror_mode": {
    "name": "ipython",
    "version": 3
   },
   "file_extension": ".py",
   "mimetype": "text/x-python",
   "name": "python",
   "nbconvert_exporter": "python",
   "pygments_lexer": "ipython3",
   "version": "3.7.6"
  }
 },
 "nbformat": 4,
 "nbformat_minor": 4
}
