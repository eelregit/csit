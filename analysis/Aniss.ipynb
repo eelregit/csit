{
 "cells": [
  {
   "cell_type": "code",
   "execution_count": 10,
   "metadata": {},
   "outputs": [],
   "source": [
    "%matplotlib inline\n",
    "import math\n",
    "import numpy as np\n",
    "\n",
    "from scipy import integrate\n",
    "from scipy import interpolate\n",
    "from scipy.integrate import odeint\n",
    "\n",
    "import matplotlib.pyplot as plt\n",
    "\n",
    "from nbodykit.lab import *"
   ]
  },
  {
   "cell_type": "code",
   "execution_count": 11,
   "metadata": {},
   "outputs": [],
   "source": [
    "cosmo = cosmology.Planck15"
   ]
  },
  {
   "cell_type": "code",
   "execution_count": 12,
   "metadata": {},
   "outputs": [],
   "source": [
    "Omega_m = cosmo.Omega_m(0)\n",
    "Omega_L = cosmo.Omega_lambda(0)\n",
    "tau_array = [0.004, 0.004, 0.004]\n",
    "trace = tau_array[0] + tau_array[1] + tau_array[2]\n",
    "a_begin = 1/(1+200)\n",
    "a_end = 1\n",
    "points = 5000\n",
    "\n",
    "def Hubble(a):\n",
    "    matter = Omega_m/a**3\n",
    "    Lambda = Omega_L\n",
    "    return np.sqrt(matter+Lambda)\n",
    "\n",
    "def dHda(a):\n",
    "    up = -3*Omega_m\n",
    "    down = 2*a**4*Hubble(a)\n",
    "    return up/down\n",
    "\n",
    "def dHdloga(a):\n",
    "    return a*dHda(a)\n",
    "\n",
    "def growth_int(a):\n",
    "    return 1./(a*Hubble(a))**3\n",
    "\n",
    "def growth_D(a):\n",
    "    factor = 5*Omega_m*Hubble(a)/2\n",
    "    return factor*integrate.quad(growth_int, 0, a)[0]\n",
    "\n",
    "def dDda(a):\n",
    "    factor = 5*Omega_m*dHda(a)/2\n",
    "    second = 5*Omega_m/(2*a**3*Hubble(a)**2)\n",
    "    return factor*integrate.quad(growth_int, 0, a)[0] + second\n",
    "\n",
    "def dDdloga(a):\n",
    "    return a*dDda(a)\n",
    "\n",
    "vgrowth_D = np.vectorize(growth_D)\n",
    "vdDda = np.vectorize(dDda)\n",
    "vdDdloga = np.vectorize(dDdloga)"
   ]
  },
  {
   "cell_type": "code",
   "execution_count": 13,
   "metadata": {},
   "outputs": [],
   "source": [
    "a_array = np.logspace(np.log(a_begin), np.log(1), points, base=np.exp(1))\n",
    "lna_array = np.log(a_array)\n",
    "a_da = np.zeros((points,6))\n",
    "\n",
    "def Delta_f(x, lna, taux, tauy, tauz):\n",
    "    ### x0 = Delta_x, x1 = Delta_x', x2 = Delta_y, x3 = Delta_y', x4 = Delta_z, x5 = Delta_z'\n",
    "    Delta0 = 1/((1.+x[0])*(1.+x[2])*(1.+x[4]))-1.\n",
    "    #Delta0 = 0\n",
    "    a = np.exp(lna)\n",
    "    first = 2+dHdloga(a)/Hubble(a)\n",
    "    \n",
    "    def tau_time(tau):\n",
    "        return (tau-trace/3.)*vgrowth_D(a)/vgrowth_D(1) \n",
    "    \n",
    "    const = 3*Omega_m/(2*a**3*Hubble(a)**2)\n",
    "    ret = [\n",
    "        x[1],\n",
    "        -first*x[1] -const*(tau_time(taux)+Delta0/3.)*(1+x[0]),\n",
    "        x[3],\n",
    "        -first*x[3] -const*(tau_time(tauy)+Delta0/3.)*(1+x[2]),\n",
    "        x[5],\n",
    "        -first*x[5] -const*(tau_time(tauz)+Delta0/3.)*(1+x[4]),\n",
    "    ]\n",
    "    return ret\n",
    "\n",
    "inifac = growth_D(a_array[0])/growth_D(1)\n",
    "dinifac = inifac*vdDdloga(a_array[0])/growth_D(a_array[0])\n",
    "\n",
    "Delta_ini = -np.array([tau_array[0]*inifac, tau_array[0]*dinifac,\n",
    "                      tau_array[1]*inifac, tau_array[1]*dinifac,\n",
    "                      tau_array[2]*inifac, tau_array[2]*dinifac])\n",
    "\n",
    "a_da = odeint(Delta_f, Delta_ini, lna_array, args=(tau_array[0],tau_array[1],tau_array[2]))"
   ]
  },
  {
   "cell_type": "code",
   "execution_count": 14,
   "metadata": {},
   "outputs": [
    {
     "data": {
      "text/plain": [
       "array([0.00497512, 0.00498041, 0.00498569, ..., 0.9978805 , 0.99893969,\n",
       "       1.        ])"
      ]
     },
     "execution_count": 14,
     "metadata": {},
     "output_type": "execute_result"
    }
   ],
   "source": [
    "a_array"
   ]
  },
  {
   "cell_type": "code",
   "execution_count": 15,
   "metadata": {},
   "outputs": [
    {
     "data": {
      "text/plain": [
       "[<matplotlib.lines.Line2D at 0x2aaaf5322a10>]"
      ]
     },
     "execution_count": 15,
     "metadata": {},
     "output_type": "execute_result"
    },
    {
     "data": {
      "image/png": "[encoded data removed]",
      "text/plain": [
       "<Figure size 432x288 with 1 Axes>"
      ]
     },
     "metadata": {
      "needs_background": "light"
     },
     "output_type": "display_data"
    }
   ],
   "source": [
    "plt.plot(a_array,1+a_da[:,0])\n",
    "#plt.plot(a_array,1+a_da[:,2])\n",
    "#plt.plot(a_array,1+a_da[:,4])\n",
    "plt.plot(a_array,1-tau_array[0]*(vgrowth_D(a_array)/growth_D(1))   )"
   ]
  },
  {
   "cell_type": "code",
   "execution_count": 16,
   "metadata": {},
   "outputs": [
    {
     "data": {
      "text/plain": [
       "[<matplotlib.lines.Line2D at 0x2aaaf53ab290>]"
      ]
     },
     "execution_count": 16,
     "metadata": {},
     "output_type": "execute_result"
    },
    {
     "data": {
      "image/png": "[encoded data removed]",
      "text/plain": [
       "<Figure size 432x288 with 1 Axes>"
      ]
     },
     "metadata": {
      "needs_background": "light"
     },
     "output_type": "display_data"
    }
   ],
   "source": [
    "plt.plot(a_array,(a_da[:,0]+tau_array[0]*(vgrowth_D(a_array)/growth_D(1)))/(tau_array[0]*tau_array[0]) )\n",
    "#plt.plot(a_array,1-tau_array[0]*(vgrowth_D(a_array)/growth_D(1))   )"
   ]
  },
  {
   "cell_type": "code",
   "execution_count": 17,
   "metadata": {},
   "outputs": [
    {
     "name": "stdout",
     "output_type": "stream",
     "text": [
      "[[ 4.97512438e-03 -2.53740271e-05 -2.53740271e-05 -2.53740271e-05]\n",
      " [ 4.98040515e-03 -2.54009707e-05 -2.54009707e-05 -2.54009707e-05]\n",
      " [ 4.98569154e-03 -2.54279328e-05 -2.54279328e-05 -2.54279328e-05]\n",
      " ...\n",
      " [ 9.97880503e-01 -4.00545982e-03 -4.00545982e-03 -4.00545982e-03]\n",
      " [ 9.98939689e-01 -4.00768388e-03 -4.00768388e-03 -4.00768388e-03]\n",
      " [ 1.00000000e+00 -4.00990642e-03 -4.00990642e-03 -4.00990642e-03]]\n"
     ]
    }
   ],
   "source": [
    "ai_save = np.zeros((points,4))\n",
    "ai_save[:,0] = a_array\n",
    "ai_save[:,1] = a_da[:,0]\n",
    "ai_save[:,2] = a_da[:,2]\n",
    "ai_save[:,3] = a_da[:,4]\n",
    "print(ai_save)"
   ]
  },
  {
   "cell_type": "code",
   "execution_count": 18,
   "metadata": {},
   "outputs": [],
   "source": [
    "np.savetxt('Aniss_planck15_iso_p0004_z200',ai_save)"
   ]
  },
  {
   "cell_type": "code",
   "execution_count": null,
   "metadata": {},
   "outputs": [],
   "source": []
  }
 ],
 "metadata": {
  "kernelspec": {
   "display_name": "Python 3",
   "language": "python",
   "name": "python3"
  },
  "language_info": {
   "codemirror_mode": {
    "name": "ipython",
    "version": 3
   },
   "file_extension": ".py",
   "mimetype": "text/x-python",
   "name": "python",
   "nbconvert_exporter": "python",
   "pygments_lexer": "ipython3",
   "version": "3.7.6"
  }
 },
 "nbformat": 4,
 "nbformat_minor": 4
}
