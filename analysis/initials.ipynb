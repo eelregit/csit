{
 "cells": [
  {
   "cell_type": "code",
   "execution_count": 50,
   "metadata": {},
   "outputs": [],
   "source": [
    "import numpy as np\n",
    "import matplotlib.pyplot as plt\n",
    "from nbodykit.lab import *\n",
    "\n",
    "from scipy.special import spherical_jn\n",
    "from scipy import integrate"
   ]
  },
  {
   "cell_type": "code",
   "execution_count": 51,
   "metadata": {},
   "outputs": [],
   "source": [
    "redshift = 0.0\n",
    "cosmo = cosmology.Planck15\n",
    "Plin = cosmology.LinearPower(cosmo, redshift, transfer='CLASS')"
   ]
  },
  {
   "cell_type": "code",
   "execution_count": 52,
   "metadata": {},
   "outputs": [
    {
     "data": {
      "text/plain": [
       "[<matplotlib.lines.Line2D at 0x2aaae4ebff50>]"
      ]
     },
     "execution_count": 52,
     "metadata": {},
     "output_type": "execute_result"
    },
    {
     "data": {
      "image/png": "[encoded data removed]",
      "text/plain": [
       "<Figure size 432x288 with 1 Axes>"
      ]
     },
     "metadata": {
      "needs_background": "light"
     },
     "output_type": "display_data"
    }
   ],
   "source": [
    "k = numpy.logspace(-4.2, 2, 10000)\n",
    "plt.loglog(k, Plin(k), c='k', label=r'$b_1^2 P_\\mathrm{lin}$')"
   ]
  },
  {
   "cell_type": "code",
   "execution_count": 53,
   "metadata": {},
   "outputs": [
    {
     "name": "stdout",
     "output_type": "stream",
     "text": [
      "5.445472976098899\n"
     ]
    }
   ],
   "source": [
    "R_sigma = 8 /cosmo.H0\n",
    "\n",
    "def sigma_func(kk):\n",
    "    x = kk*R_sigma\n",
    "    W = 3 * spherical_jn(1, x) / (x)\n",
    "    factor = kk**2 /(2.*np.pi**2)\n",
    "    return factor*W**2\n",
    "\n",
    "sigma8   = integrate.simps(Plin(k)*sigma_func(k), k )\n",
    "\n",
    "print(np.sqrt(sigma8) )"
   ]
  },
  {
   "cell_type": "code",
   "execution_count": null,
   "metadata": {},
   "outputs": [],
   "source": [
    "Delta = k**3*Plin(k)/(2.*np.pi**2)\n",
    "log10Delta = np.array([np.log10(k), np.log10(Delta)]).T\n",
    "np.savetxt('planck2015_log10Delta.dat', log10Delta)"
   ]
  },
  {
   "cell_type": "code",
   "execution_count": 23,
   "metadata": {},
   "outputs": [
    {
     "ename": "TypeError",
     "evalue": "get_pklin() takes exactly 2 positional arguments (0 given)",
     "output_type": "error",
     "traceback": [
      "\u001b[0;31m---------------------------------------------------------------------------\u001b[0m",
      "\u001b[0;31mTypeError\u001b[0m                                 Traceback (most recent call last)",
      "\u001b[0;32m<ipython-input-23-d39caaa2b1a5>\u001b[0m in \u001b[0;36m<module>\u001b[0;34m\u001b[0m\n\u001b[0;32m----> 1\u001b[0;31m \u001b[0mcosmo\u001b[0m\u001b[0;34m.\u001b[0m\u001b[0mget_pklin\u001b[0m\u001b[0;34m(\u001b[0m \u001b[0;34m)\u001b[0m\u001b[0;34m\u001b[0m\u001b[0;34m\u001b[0m\u001b[0m\n\u001b[0m",
      "\u001b[0;32mclassylss/binding.pyx\u001b[0m in \u001b[0;36mclassylss.binding.Spectra.get_pklin\u001b[0;34m()\u001b[0m\n",
      "\u001b[0;31mTypeError\u001b[0m: get_pklin() takes exactly 2 positional arguments (0 given)"
     ]
    }
   ],
   "source": [
    "cosmo.get_pklin( )"
   ]
  },
  {
   "cell_type": "code",
   "execution_count": 24,
   "metadata": {},
   "outputs": [
    {
     "data": {
      "text/plain": [
       "<nbodykit.cosmology.power.transfers.CLASS at 0x2aaae398cc90>"
      ]
     },
     "execution_count": 24,
     "metadata": {},
     "output_type": "execute_result"
    }
   ],
   "source": [
    "nbodykit.cosmology.power.transfers.CLASS(cosmo, 0.0)"
   ]
  },
  {
   "cell_type": "code",
   "execution_count": null,
   "metadata": {},
   "outputs": [],
   "source": []
  }
 ],
 "metadata": {
  "kernelspec": {
   "display_name": "Python 3",
   "language": "python",
   "name": "python3"
  },
  "language_info": {
   "codemirror_mode": {
    "name": "ipython",
    "version": 3
   },
   "file_extension": ".py",
   "mimetype": "text/x-python",
   "name": "python",
   "nbconvert_exporter": "python",
   "pygments_lexer": "ipython3",
   "version": "3.7.6"
  }
 },
 "nbformat": 4,
 "nbformat_minor": 4
}
