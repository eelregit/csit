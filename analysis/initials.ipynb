{
 "cells": [
  {
   "cell_type": "code",
   "execution_count": 1,
   "metadata": {},
   "outputs": [],
   "source": [
    "import numpy as np\n",
    "import matplotlib.pyplot as plt\n",
    "from nbodykit.lab import *\n",
    "from nbodykit import cosmology\n",
    "\n",
    "from scipy.special import spherical_jn\n",
    "from scipy import integrate"
   ]
  },
  {
   "cell_type": "code",
   "execution_count": 2,
   "metadata": {},
   "outputs": [],
   "source": [
    "redshift = 0.0\n",
    "cosmo = cosmology.Planck15\n",
    "Plin = cosmology.LinearPower(cosmo, redshift, transfer='CLASS')"
   ]
  },
  {
   "cell_type": "code",
   "execution_count": 3,
   "metadata": {},
   "outputs": [
    {
     "data": {
      "text/plain": [
       "0.9999998572856914"
      ]
     },
     "execution_count": 3,
     "metadata": {},
     "output_type": "execute_result"
    }
   ],
   "source": [
    "cosmo.Omega0_lambda+cosmo.Omega0_ur+cosmo.Omega0_m+cosmo.Omega0_g"
   ]
  },
  {
   "cell_type": "code",
   "execution_count": 4,
   "metadata": {},
   "outputs": [
    {
     "data": {
      "text/plain": [
       "0.2589"
      ]
     },
     "execution_count": 4,
     "metadata": {},
     "output_type": "execute_result"
    }
   ],
   "source": [
    "cosmo.Omega0_cdm"
   ]
  },
  {
   "cell_type": "code",
   "execution_count": 5,
   "metadata": {},
   "outputs": [
    {
     "data": {
      "text/plain": [
       "0.6910961158423617"
      ]
     },
     "execution_count": 5,
     "metadata": {},
     "output_type": "execute_result"
    }
   ],
   "source": [
    "cosmo.Omega0_lambda+cosmo.Omega0_ur+cosmo.Omega0_g"
   ]
  },
  {
   "cell_type": "code",
   "execution_count": 6,
   "metadata": {},
   "outputs": [],
   "source": [
    "cosmo_SU = cosmology.cosmology.Cosmology(h=0.6774, Omega0_b=0.0486, Omega0_cdm=0.2589, \n",
    "                                                n_s=cosmo.n_s, A_s=cosmo.A_s,\n",
    "                                                 P_k_max=100.)"
   ]
  },
  {
   "cell_type": "code",
   "execution_count": 7,
   "metadata": {},
   "outputs": [],
   "source": [
    "Plin_SU = cosmology.LinearPower(cosmo_SU, redshift, transfer='CLASS')"
   ]
  },
  {
   "cell_type": "code",
   "execution_count": 8,
   "metadata": {},
   "outputs": [
    {
     "data": {
      "text/plain": [
       "[<matplotlib.lines.Line2D at 0x2aaae3a23450>]"
      ]
     },
     "execution_count": 8,
     "metadata": {},
     "output_type": "execute_result"
    },
    {
     "data": {
      "image/png": "[encoded data removed]",
      "text/plain": [
       "<Figure size 432x288 with 1 Axes>"
      ]
     },
     "metadata": {
      "needs_background": "light"
     },
     "output_type": "display_data"
    }
   ],
   "source": [
    "k = numpy.logspace(-4.2, 2, 10000)\n",
    "plt.loglog(k, Plin(k), c='k', label=r'$b_1^2 P_\\mathrm{lin}$')"
   ]
  },
  {
   "cell_type": "code",
   "execution_count": 9,
   "metadata": {},
   "outputs": [
    {
     "data": {
      "text/plain": [
       "[<matplotlib.lines.Line2D at 0x2aaae3e4c250>]"
      ]
     },
     "execution_count": 9,
     "metadata": {},
     "output_type": "execute_result"
    },
    {
     "data": {
      "image/png": "[encoded data removed]",
      "text/plain": [
       "<Figure size 432x288 with 1 Axes>"
      ]
     },
     "metadata": {
      "needs_background": "light"
     },
     "output_type": "display_data"
    }
   ],
   "source": [
    "plt.xscale('log')\n",
    "plt.ylim(0.998,1.002)\n",
    "plt.plot(k, Plin_SU(k)/Plin(k))"
   ]
  },
  {
   "cell_type": "code",
   "execution_count": 10,
   "metadata": {},
   "outputs": [
    {
     "name": "stdout",
     "output_type": "stream",
     "text": [
      "0.8158116139762954\n"
     ]
    }
   ],
   "source": [
    "R_sigma = 8\n",
    "\n",
    "def sigma_func(kk):\n",
    "    x = kk*R_sigma\n",
    "    W = 3 * spherical_jn(1, x) / (x)\n",
    "    factor = kk**2 /(2.*np.pi**2)\n",
    "    return factor*W**2\n",
    "\n",
    "sigma8   = integrate.simps(Plin(k)*sigma_func(k), k )\n",
    "\n",
    "print(np.sqrt(sigma8) )"
   ]
  },
  {
   "cell_type": "code",
   "execution_count": 11,
   "metadata": {},
   "outputs": [],
   "source": [
    "Delta = k**3*Plin(k)/(2.*np.pi**2)\n",
    "log10Delta = np.array([np.log10(k), np.log10(Delta)]).T\n",
    "#np.savetxt('planck2015_log10Delta.dat', log10Delta)"
   ]
  },
  {
   "cell_type": "code",
   "execution_count": 12,
   "metadata": {},
   "outputs": [],
   "source": [
    "Delta_SU = k**3*Plin_SU(k)/(2.*np.pi**2)\n",
    "log10Delta_SU = np.array([np.log10(k), np.log10(Delta_SU)]).T\n",
    "#np.savetxt('planck2015_log10Delta_SU.dat', log10Delta_SU)"
   ]
  },
  {
   "cell_type": "code",
   "execution_count": 13,
   "metadata": {},
   "outputs": [],
   "source": [
    "#Omega_m = cosmo.Omega0_m\n",
    "#Omega_L = cosmo.Omega0_lambda\n",
    "\n",
    "Omega_m = 0.3089\n",
    "Omega_L = 0.6911\n",
    "\n",
    "\n",
    "def Hubble(a, Om, OL):\n",
    "    matter = Om/(a**3)\n",
    "    curv = (1-Om-OL)/(a**2)\n",
    "    Lambda = OL\n",
    "    return np.sqrt(matter+Lambda+curv)\n",
    "\n",
    "def growth_int(a, Om, OL):\n",
    "    return 1./(a*Hubble(a, Om, OL))**3\n",
    "\n",
    "def growth_D(a, Om=Omega_m, OL=Omega_L):\n",
    "    factor = 5.*Om*Hubble(a, Om, OL)/2\n",
    "    return factor*integrate.quad(growth_int, 0, a, args=(Om, OL,))[0]\n",
    "\n",
    "def rel_D(z):\n",
    "    a = 1/(1+z)\n",
    "    return growth_D(a)/growth_D(1)"
   ]
  },
  {
   "cell_type": "code",
   "execution_count": 14,
   "metadata": {},
   "outputs": [
    {
     "data": {
      "text/plain": [
       "0.3089"
      ]
     },
     "execution_count": 14,
     "metadata": {},
     "output_type": "execute_result"
    }
   ],
   "source": [
    "Omega_m"
   ]
  },
  {
   "cell_type": "code",
   "execution_count": 15,
   "metadata": {},
   "outputs": [
    {
     "data": {
      "text/plain": [
       "0.6911"
      ]
     },
     "execution_count": 15,
     "metadata": {},
     "output_type": "execute_result"
    }
   ],
   "source": [
    "Omega_L"
   ]
  },
  {
   "cell_type": "code",
   "execution_count": 16,
   "metadata": {},
   "outputs": [],
   "source": [
    "def delta_H(db):\n",
    "    delta_K = 5.*Omega_m*db/(3.*growth_D(1, Omega_m, Omega_L))\n",
    "    return np.sqrt(1-delta_K)\n",
    "\n",
    "def Hubble_new(db):\n",
    "    return 0.6774*delta_H(db)\n",
    "\n",
    "def Omega_m_new(db):\n",
    "    return Omega_m/delta_H(db)**2\n",
    "\n",
    "def Omega_L_new(db):\n",
    "    return Omega_L/delta_H(db)**2"
   ]
  },
  {
   "cell_type": "code",
   "execution_count": 44,
   "metadata": {},
   "outputs": [],
   "source": [
    "Delta = -0.21"
   ]
  },
  {
   "cell_type": "code",
   "execution_count": 18,
   "metadata": {},
   "outputs": [
    {
     "data": {
      "text/plain": [
       "250.9827425792951"
      ]
     },
     "execution_count": 18,
     "metadata": {},
     "output_type": "execute_result"
    }
   ],
   "source": [
    "250*delta_H(Delta)"
   ]
  },
  {
   "cell_type": "code",
   "execution_count": 45,
   "metadata": {},
   "outputs": [
    {
     "data": {
      "text/plain": [
       "0.7225843232963273"
      ]
     },
     "execution_count": 45,
     "metadata": {},
     "output_type": "execute_result"
    }
   ],
   "source": [
    "Hubble_new(Delta)"
   ]
  },
  {
   "cell_type": "code",
   "execution_count": 20,
   "metadata": {},
   "outputs": [
    {
     "data": {
      "text/plain": [
       "0.6856984834552392"
      ]
     },
     "execution_count": 20,
     "metadata": {},
     "output_type": "execute_result"
    }
   ],
   "source": [
    "Omega_L_new(Delta)"
   ]
  },
  {
   "cell_type": "code",
   "execution_count": 21,
   "metadata": {},
   "outputs": [
    {
     "data": {
      "text/plain": [
       "0.30648569170789086"
      ]
     },
     "execution_count": 21,
     "metadata": {},
     "output_type": "execute_result"
    }
   ],
   "source": [
    "Omega_m_new(Delta)"
   ]
  },
  {
   "cell_type": "code",
   "execution_count": 33,
   "metadata": {},
   "outputs": [
    {
     "name": "stdout",
     "output_type": "stream",
     "text": [
      "1.2025132122140774 0.8577924902119319\n"
     ]
    }
   ],
   "source": [
    "c_ppp007 = growth_D(1., Omega_m_new(0.21), Omega_L_new(0.21))/growth_D(1, Omega_m, Omega_L)\n",
    "c_mmm007 = growth_D(1., Omega_m_new(-0.21), Omega_L_new(-0.21))/growth_D(1, Omega_m, Omega_L)\n",
    "print(c_ppp007,c_mmm007)"
   ]
  },
  {
   "cell_type": "code",
   "execution_count": 34,
   "metadata": {},
   "outputs": [
    {
     "name": "stdout",
     "output_type": "stream",
     "text": [
      "1.0773749032377746 0.9334118698599762\n"
     ]
    }
   ],
   "source": [
    "c_ppp003 = growth_D(1., Omega_m_new(0.09), Omega_L_new(0.09))/growth_D(1, Omega_m, Omega_L)\n",
    "c_mmm003 = growth_D(1., Omega_m_new(-0.09), Omega_L_new(-0.09))/growth_D(1, Omega_m, Omega_L)\n",
    "print(c_ppp003,c_mmm003)"
   ]
  },
  {
   "cell_type": "code",
   "execution_count": 35,
   "metadata": {},
   "outputs": [
    {
     "name": "stdout",
     "output_type": "stream",
     "text": [
      "1.0096390427270479 0.9905516203516944\n"
     ]
    }
   ],
   "source": [
    "c_ppp0004 = growth_D(1., Omega_m_new(0.012), Omega_L_new(0.012))/growth_D(1, Omega_m, Omega_L)\n",
    "c_mmm0004 = growth_D(1., Omega_m_new(-0.012), Omega_L_new(-0.012))/growth_D(1, Omega_m, Omega_L)\n",
    "print(c_ppp0004,c_mmm0004)"
   ]
  },
  {
   "cell_type": "code",
   "execution_count": 36,
   "metadata": {},
   "outputs": [],
   "source": [
    "k_ppp0004 = k/delta_H(0.012)\n",
    "log10Delta_ppp0004 = np.array([np.log10(k_ppp0004), np.log10(c_ppp0004*c_ppp0004*Plin(k)*k**3/(2.*np.pi**2))]).T\n",
    "np.savetxt('planck2015_log10Delta_ppp0004.dat', log10Delta_ppp0004)"
   ]
  },
  {
   "cell_type": "code",
   "execution_count": 37,
   "metadata": {},
   "outputs": [],
   "source": [
    "k_mmm0004 = k/delta_H(-0.012)\n",
    "log10Delta_mmm0004 = np.array([np.log10(k_mmm0004), np.log10(c_mmm0004*c_mmm0004*Plin(k)*k**3/(2.*np.pi**2))]).T\n",
    "np.savetxt('planck2015_log10Delta_mmm0004.dat', log10Delta_mmm0004)"
   ]
  },
  {
   "cell_type": "code",
   "execution_count": 28,
   "metadata": {},
   "outputs": [
    {
     "data": {
      "text/plain": [
       "[<matplotlib.lines.Line2D at 0x2aaae402cf90>]"
      ]
     },
     "execution_count": 28,
     "metadata": {},
     "output_type": "execute_result"
    },
    {
     "data": {
      "image/png": "[encoded data removed]",
      "text/plain": [
       "<Figure size 432x288 with 1 Axes>"
      ]
     },
     "metadata": {
      "needs_background": "light"
     },
     "output_type": "display_data"
    }
   ],
   "source": [
    "plt.loglog(k_ppp0004, 10**(log10Delta_mmm0004[:,1]), c='k', label=r'$b_1^2 P_\\mathrm{lin}$')"
   ]
  },
  {
   "cell_type": "code",
   "execution_count": 38,
   "metadata": {},
   "outputs": [],
   "source": [
    "k_ppp003 = k/delta_H(0.09)\n",
    "log10Delta_ppp003 = np.array([np.log10(k_ppp003), np.log10(c_ppp003*c_ppp003*Plin(k)*k**3/(2.*np.pi**2))]).T\n",
    "np.savetxt('planck2015_log10Delta_ppp003.dat', log10Delta_ppp003)"
   ]
  },
  {
   "cell_type": "code",
   "execution_count": 39,
   "metadata": {},
   "outputs": [],
   "source": [
    "k_mmm003 = k/delta_H(-0.09)\n",
    "log10Delta_mmm003 = np.array([np.log10(k_mmm003), np.log10(c_mmm003*c_mmm003*Plin(k)*k**3/(2.*np.pi**2))]).T\n",
    "np.savetxt('planck2015_log10Delta_mmm003.dat', log10Delta_mmm003)"
   ]
  },
  {
   "cell_type": "code",
   "execution_count": 40,
   "metadata": {},
   "outputs": [],
   "source": [
    "k_ppp007 = k/delta_H(0.21)\n",
    "log10Delta_ppp007 = np.array([np.log10(k_ppp007), np.log10(c_ppp007*c_ppp007*Plin(k)*k**3/(2.*np.pi**2))]).T\n",
    "np.savetxt('planck2015_log10Delta_ppp007.dat', log10Delta_ppp007)"
   ]
  },
  {
   "cell_type": "code",
   "execution_count": 41,
   "metadata": {},
   "outputs": [],
   "source": [
    "k_mmm007 = k/delta_H(-0.21)\n",
    "log10Delta_mmm007 = np.array([np.log10(k_mmm007), np.log10(c_mmm007*c_mmm007*Plin(k)*k**3/(2.*np.pi**2))]).T\n",
    "np.savetxt('planck2015_log10Delta_mmm007.dat', log10Delta_mmm007)"
   ]
  },
  {
   "cell_type": "code",
   "execution_count": 67,
   "metadata": {},
   "outputs": [],
   "source": [
    "c_ppp003 = growth_D(0.9696, Omega_m_new(0.09), Omega_L_new(0.09))/growth_D(1, Omega_m, Omega_L)\n",
    "c_mmm003 = growth_D(1.0296, Omega_m_new(-0.09), Omega_L_new(-0.09))/growth_D(1, Omega_m, Omega_L)"
   ]
  },
  {
   "cell_type": "code",
   "execution_count": 34,
   "metadata": {},
   "outputs": [
    {
     "data": {
      "image/png": "[encoded data removed]",
      "text/plain": [
       "<Figure size 432x288 with 1 Axes>"
      ]
     },
     "metadata": {
      "needs_background": "light"
     },
     "output_type": "display_data"
    }
   ],
   "source": [
    "db = 0.03*3\n",
    "Gk0 = ( c_ppp003**2 - c_mmm003**2)/(2*db)\n",
    "\n",
    "plt.hlines([26./21.], k[0], k[-1], \"blue\", linestyles='dashed', label=r\"$\\frac{26}{21}$\")     # hlines\n",
    "plt.hlines([Gk0], k[0], k[-1], \"red\", label=r\"$\\frac{26}{21}$\")     # hlines\n",
    "\n",
    "#plt.ylim(1, 1.3)\n",
    "#plt.plot(k, Gk0, label=r'$\\Delta_0 = 0.21$')\n",
    "plt.xscale('log')"
   ]
  },
  {
   "cell_type": "code",
   "execution_count": 78,
   "metadata": {},
   "outputs": [
    {
     "data": {
      "text/plain": [
       "1.0100773918492971"
      ]
     },
     "execution_count": 78,
     "metadata": {},
     "output_type": "execute_result"
    }
   ],
   "source": [
    "Gk0/(26./21.)"
   ]
  },
  {
   "cell_type": "code",
   "execution_count": null,
   "metadata": {},
   "outputs": [],
   "source": []
  }
 ],
 "metadata": {
  "kernelspec": {
   "display_name": "Python 3",
   "language": "python",
   "name": "python3"
  },
  "language_info": {
   "codemirror_mode": {
    "name": "ipython",
    "version": 3
   },
   "file_extension": ".py",
   "mimetype": "text/x-python",
   "name": "python",
   "nbconvert_exporter": "python",
   "pygments_lexer": "ipython3",
   "version": "3.7.6"
  }
 },
 "nbformat": 4,
 "nbformat_minor": 4
}
